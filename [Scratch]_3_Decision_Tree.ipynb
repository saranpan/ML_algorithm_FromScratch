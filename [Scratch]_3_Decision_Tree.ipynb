{
  "nbformat": 4,
  "nbformat_minor": 0,
  "metadata": {
    "colab": {
      "name": "[Scratch] #3 Decision Tree",
      "provenance": [],
      "collapsed_sections": [],
      "include_colab_link": true
    },
    "kernelspec": {
      "name": "python3",
      "display_name": "Python 3"
    },
    "language_info": {
      "name": "python"
    }
  },
  "cells": [
    {
      "cell_type": "markdown",
      "metadata": {
        "id": "view-in-github",
        "colab_type": "text"
      },
      "source": [
        "<a href=\"https://colab.research.google.com/github/wallik2/ML_algorithm_FromScratch/blob/main/%5BScratch%5D_3_Decision_Tree.ipynb\" target=\"_parent\"><img src=\"https://colab.research.google.com/assets/colab-badge.svg\" alt=\"Open In Colab\"/></a>"
      ]
    },
    {
      "cell_type": "markdown",
      "metadata": {
        "id": "N5Sd1s4-nssh"
      },
      "source": [
        "# Decision Tree from scratch 🌲"
      ]
    },
    {
      "cell_type": "markdown",
      "metadata": {
        "id": "Opd-4oFAmILF"
      },
      "source": [
        "![treememe](http://leapdesign.com/wp-content/uploads/2010/04/harold_decisiontree-560x795.jpg)"
      ]
    },
    {
      "cell_type": "markdown",
      "metadata": {
        "id": "22Q1T_Wu3VXm"
      },
      "source": [
        "<fieldset>\n",
        "\n",
        "Ref:  [Decision Trees from Scratch Using ID3 Python](https://medium.com/@lope.ai/decision-trees-from-scratch-using-id3-python-coding-it-up-6b79e3458de4)"
      ]
    },
    {
      "cell_type": "markdown",
      "metadata": {
        "id": "LxeMd2armNnt"
      },
      "source": [
        "\n",
        "\n",
        "---\n",
        "\n"
      ]
    },
    {
      "cell_type": "markdown",
      "metadata": {
        "id": "dvScepDUNb6Q"
      },
      "source": [
        "# Setup libraries"
      ]
    },
    {
      "cell_type": "code",
      "metadata": {
        "id": "sQrZfTMp2JZR",
        "colab": {
          "base_uri": "https://localhost:8080/"
        },
        "outputId": "a1e49782-9e6f-49fd-bc28-e82ee248a986"
      },
      "source": [
        "import numpy as np\n",
        "import pandas as pd\n",
        "\n",
        "\"\"\"to avoid overflow (minimum at 16 decimal)\"\"\"\n",
        "eps = np.finfo(float).eps\n",
        "\n",
        "from numpy import log2 as log\n",
        "\n",
        "print(\"Setup completed\")"
      ],
      "execution_count": 1,
      "outputs": [
        {
          "output_type": "stream",
          "name": "stdout",
          "text": [
            "Setup completed\n"
          ]
        }
      ]
    },
    {
      "cell_type": "markdown",
      "metadata": {
        "id": "ntKRyQHslN8-"
      },
      "source": [
        "\n",
        "\n",
        "---\n",
        "\n"
      ]
    },
    {
      "cell_type": "markdown",
      "metadata": {
        "id": "xK7AH9TE3xiq"
      },
      "source": [
        "# Define the dataset"
      ]
    },
    {
      "cell_type": "code",
      "metadata": {
        "id": "k8XWNRHEB1qw"
      },
      "source": [
        "data = {'x1':[\"yes\",\"yes\",\"no\",\"yes\",\"yes\",\"no\",\"no\",\"no\",\"yes\",\"yes\",\"yes\",\"no\",\"no\",\"yes\",\"yes\"],\n",
        "        'x2':[\"male\",\"female\",\"female\",\"male\",\"male\",\"male\",\"male\",\"female\",\"male\",\"male\",\"female\",\n",
        "              \"male\",\"female\",\"female\",\"male\"],\n",
        "        'x3':[\"yes\",\"no\",\"yes\",\"no\",\"no\",\"no\",\"yes\",\"yes\",\"no\",\"yes\",\"yes\",\"yes\",\"no\",\"no\",\"no\"],\n",
        "        'x4':['never','rarely','chainsmoker','chainsmoker','rarely','never','rarely','chainsmoker','rarely',\n",
        "              'chainsmoker','rarely','rarely','never','never','rarely'],  \n",
        "        'y':['no','yes','no','yes','yes','yes','yes','no','yes','no','no','no','yes','yes','yes']}"
      ],
      "execution_count": 2,
      "outputs": []
    },
    {
      "cell_type": "markdown",
      "metadata": {
        "id": "kka63tnmlOqG"
      },
      "source": [
        "\n",
        "\n",
        "---\n",
        "\n"
      ]
    },
    {
      "cell_type": "markdown",
      "metadata": {
        "id": "yyAVq9E730jC"
      },
      "source": [
        "# Create pandas dataframe"
      ]
    },
    {
      "cell_type": "code",
      "metadata": {
        "colab": {
          "base_uri": "https://localhost:8080/",
          "height": 520
        },
        "id": "TYic7m_fCEa6",
        "outputId": "34654f5b-6a65-4f56-f7e9-3fb7d577540c"
      },
      "source": [
        "df = pd.DataFrame(data) ;df"
      ],
      "execution_count": 3,
      "outputs": [
        {
          "output_type": "execute_result",
          "data": {
            "text/html": [
              "<div>\n",
              "<style scoped>\n",
              "    .dataframe tbody tr th:only-of-type {\n",
              "        vertical-align: middle;\n",
              "    }\n",
              "\n",
              "    .dataframe tbody tr th {\n",
              "        vertical-align: top;\n",
              "    }\n",
              "\n",
              "    .dataframe thead th {\n",
              "        text-align: right;\n",
              "    }\n",
              "</style>\n",
              "<table border=\"1\" class=\"dataframe\">\n",
              "  <thead>\n",
              "    <tr style=\"text-align: right;\">\n",
              "      <th></th>\n",
              "      <th>x1</th>\n",
              "      <th>x2</th>\n",
              "      <th>x3</th>\n",
              "      <th>x4</th>\n",
              "      <th>y</th>\n",
              "    </tr>\n",
              "  </thead>\n",
              "  <tbody>\n",
              "    <tr>\n",
              "      <th>0</th>\n",
              "      <td>yes</td>\n",
              "      <td>male</td>\n",
              "      <td>yes</td>\n",
              "      <td>never</td>\n",
              "      <td>no</td>\n",
              "    </tr>\n",
              "    <tr>\n",
              "      <th>1</th>\n",
              "      <td>yes</td>\n",
              "      <td>female</td>\n",
              "      <td>no</td>\n",
              "      <td>rarely</td>\n",
              "      <td>yes</td>\n",
              "    </tr>\n",
              "    <tr>\n",
              "      <th>2</th>\n",
              "      <td>no</td>\n",
              "      <td>female</td>\n",
              "      <td>yes</td>\n",
              "      <td>chainsmoker</td>\n",
              "      <td>no</td>\n",
              "    </tr>\n",
              "    <tr>\n",
              "      <th>3</th>\n",
              "      <td>yes</td>\n",
              "      <td>male</td>\n",
              "      <td>no</td>\n",
              "      <td>chainsmoker</td>\n",
              "      <td>yes</td>\n",
              "    </tr>\n",
              "    <tr>\n",
              "      <th>4</th>\n",
              "      <td>yes</td>\n",
              "      <td>male</td>\n",
              "      <td>no</td>\n",
              "      <td>rarely</td>\n",
              "      <td>yes</td>\n",
              "    </tr>\n",
              "    <tr>\n",
              "      <th>5</th>\n",
              "      <td>no</td>\n",
              "      <td>male</td>\n",
              "      <td>no</td>\n",
              "      <td>never</td>\n",
              "      <td>yes</td>\n",
              "    </tr>\n",
              "    <tr>\n",
              "      <th>6</th>\n",
              "      <td>no</td>\n",
              "      <td>male</td>\n",
              "      <td>yes</td>\n",
              "      <td>rarely</td>\n",
              "      <td>yes</td>\n",
              "    </tr>\n",
              "    <tr>\n",
              "      <th>7</th>\n",
              "      <td>no</td>\n",
              "      <td>female</td>\n",
              "      <td>yes</td>\n",
              "      <td>chainsmoker</td>\n",
              "      <td>no</td>\n",
              "    </tr>\n",
              "    <tr>\n",
              "      <th>8</th>\n",
              "      <td>yes</td>\n",
              "      <td>male</td>\n",
              "      <td>no</td>\n",
              "      <td>rarely</td>\n",
              "      <td>yes</td>\n",
              "    </tr>\n",
              "    <tr>\n",
              "      <th>9</th>\n",
              "      <td>yes</td>\n",
              "      <td>male</td>\n",
              "      <td>yes</td>\n",
              "      <td>chainsmoker</td>\n",
              "      <td>no</td>\n",
              "    </tr>\n",
              "    <tr>\n",
              "      <th>10</th>\n",
              "      <td>yes</td>\n",
              "      <td>female</td>\n",
              "      <td>yes</td>\n",
              "      <td>rarely</td>\n",
              "      <td>no</td>\n",
              "    </tr>\n",
              "    <tr>\n",
              "      <th>11</th>\n",
              "      <td>no</td>\n",
              "      <td>male</td>\n",
              "      <td>yes</td>\n",
              "      <td>rarely</td>\n",
              "      <td>no</td>\n",
              "    </tr>\n",
              "    <tr>\n",
              "      <th>12</th>\n",
              "      <td>no</td>\n",
              "      <td>female</td>\n",
              "      <td>no</td>\n",
              "      <td>never</td>\n",
              "      <td>yes</td>\n",
              "    </tr>\n",
              "    <tr>\n",
              "      <th>13</th>\n",
              "      <td>yes</td>\n",
              "      <td>female</td>\n",
              "      <td>no</td>\n",
              "      <td>never</td>\n",
              "      <td>yes</td>\n",
              "    </tr>\n",
              "    <tr>\n",
              "      <th>14</th>\n",
              "      <td>yes</td>\n",
              "      <td>male</td>\n",
              "      <td>no</td>\n",
              "      <td>rarely</td>\n",
              "      <td>yes</td>\n",
              "    </tr>\n",
              "  </tbody>\n",
              "</table>\n",
              "</div>"
            ],
            "text/plain": [
              "     x1      x2   x3           x4    y\n",
              "0   yes    male  yes        never   no\n",
              "1   yes  female   no       rarely  yes\n",
              "2    no  female  yes  chainsmoker   no\n",
              "3   yes    male   no  chainsmoker  yes\n",
              "4   yes    male   no       rarely  yes\n",
              "5    no    male   no        never  yes\n",
              "6    no    male  yes       rarely  yes\n",
              "7    no  female  yes  chainsmoker   no\n",
              "8   yes    male   no       rarely  yes\n",
              "9   yes    male  yes  chainsmoker   no\n",
              "10  yes  female  yes       rarely   no\n",
              "11   no    male  yes       rarely   no\n",
              "12   no  female   no        never  yes\n",
              "13  yes  female   no        never  yes\n",
              "14  yes    male   no       rarely  yes"
            ]
          },
          "metadata": {},
          "execution_count": 3
        }
      ]
    },
    {
      "cell_type": "markdown",
      "metadata": {
        "id": "8QEL_6LUlPsh"
      },
      "source": [
        "\n",
        "\n",
        "---\n",
        "\n"
      ]
    },
    {
      "cell_type": "markdown",
      "metadata": {
        "id": "PwwwVuRV39kj"
      },
      "source": [
        "# Decision tree algorithm<br>\n",
        "1. compute the entropy for data-set<br>\n",
        "2. for every attribute/feature:<br>\n",
        "* 2.1.calculate entropy for all categorical values\n",
        "* 2.2.calculate gain for the current attribute\n",
        "3. pick the highest gain attribute.<br>\n",
        "4. Repeat until we get the tree we desired<br>\n",
        "\n",
        "<u>Note</u> : There are a lot of impurity measurement like gini, but in this case, we prefer using Entropy ⏩"
      ]
    },
    {
      "cell_type": "markdown",
      "metadata": {
        "id": "Az1SlAdvlQ28"
      },
      "source": [
        "\n",
        "\n",
        "---\n",
        "\n"
      ]
    },
    {
      "cell_type": "markdown",
      "metadata": {
        "id": "JgKHAcMB43Xd"
      },
      "source": [
        "# compute the entropy for data-set"
      ]
    },
    {
      "cell_type": "markdown",
      "metadata": {
        "id": "ZiR7GE7QOJtb"
      },
      "source": [
        "<details>\n",
        "  <summary><b> # Description 1</b></summary>\n",
        "\n",
        "<fieldset>\n",
        "Verbal description 1.1 : \n",
        "\n",
        "At very first step, we need to find the entropy of whole dataset, if the class entropy of the first round is 1, then it means the each category of the label share the equal proportion, but if it's zero, then all instances has the same label, which mean you can immediately stop, and don't use any attribute to help seperating the label anymore \n",
        "\n",
        "\n",
        "\n",
        "</fieldset>\n",
        "\n",
        "<fieldset>\n",
        "Verbal description 1.2 : \n",
        "\n",
        "\n",
        "```\n",
        "df.y.value_counts()\n",
        "```\n",
        "``` \n",
        "yes    9\n",
        "no     6\n",
        "Name: y, dtype: int64\n",
        "```\n",
        "\n",
        "Since this dataset has 9 yes / 6 no, so the impurity is very high, (which almost is half and half)\n",
        "\n",
        "That's why the entropy is very close to 1 \n",
        "\n",
        "\n",
        "\n"
      ]
    },
    {
      "cell_type": "markdown",
      "metadata": {
        "id": "ZVP5Bp47RJgD"
      },
      "source": [
        "![image.png](data:image/jpeg;base64,/9j/4AAQSkZJRgABAQAAAQABAAD/2wCEAAkGBxENDxIQERAPDxUQDREQEREPDw8NEBAQFRYXFxgSExUYHTQiGBomGxgTITEiJisrLjEuFx8zODMsOjQtLisBCgoKBQUFDgUFDisZExkrKysrKysrKysrKysrKysrKysrKysrKysrKysrKysrKysrKysrKysrKysrKysrKysrK//AABEIAOYA2wMBIgACEQEDEQH/xAAbAAEBAAIDAQAAAAAAAAAAAAAABgMFAQQHAv/EAEgQAAICAQIDAwgFBgsJAQAAAAABAgMEBREGEiETMUEUIlFSYXGBkSNCkqHBFSVicoKiFiQyM0NTY5OxwsNVZYOUo7Kz0dIH/8QAFAEBAAAAAAAAAAAAAAAAAAAAAP/EABQRAQAAAAAAAAAAAAAAAAAAAAD/2gAMAwEAAhEDEQA/APcQAAAAAAAAAAOJSS72l4dehyQ/Gt3bZNFXNJRx8rAtcYuUea63KhGG7T6pRjPp7QLgAAAAAAAAAAAAAAAAAAAAAAAAAAAAAAAAAAYsrJhTCVlk4VwhFynOyShCEV3uUn0SIOvNrz86Lqfa12ajVLtIpqLrxaHPdbrqu0lHr3blFxRg3WyxbK64ZEaMh22Y859mrHySjCSbWzcZPmSfTfZ96Ri0zJsv1CauphVKnDhKtKbslFWzlzJvu68kfkBRo5AAA4bNDm8YYVTnFXK6VcXOyGP9PKEfWly9EveBvzjc891XjK6U1F052FVZHmplXieVZeQtuZuNa37KKTW7lHfzvA7PDHEF+VFxxIQsUZN2eX5cnlwe/wBepQ3j7ugF0DDidpyLtORS8VXzOPw36mYAAAAAAAAAAAAAAAAAAAAAAAADgnsBfnbL9mFiL961lEaDSlzajnS9EMav4qMpfiBvzFk5EaoSsnJRjCLlKT6JRXVsyk9xBPt8rEwfCx2ZV69NGPybQfslbZT8IyAY+A9Q2uylLs351OI24wUfCd6/pJPv5ZbxXo36m2x40R+igqY7Lbs4ci2S8OVeB9Z+Ir63W5zgpNczrlyScfGPN3pP2dSf4c1bTbMzJw8SEFdibK5xrUVzN7SSn3yaa2ftApZqMfPaXmxfXbql3tIl83TsHWX2lVkqcijrXkUc2Pl0Pw33W8oPr5sk4s2XFvE2PpGLLKyHLlUlCMYJSnOb7oxTff0b9yZsMK2u+ML4JPtKoyjJraXJLrswNLw5rN3aywc1QWTXDnhZWuSrMpXTtq19WXdzR8G/RsUhM8eYsljeV1Ju7Al5TVt0cox/nKt/RKHMigw8iN1cLIPeNkIzi/TGS3T+TAzAAAAAAAAAAAAAAAAAAAAAAAA4ZPcNy5svUn6M2uPyorf4lCzQcLLezOn62oz/AHYQj+AFATda31uz9HR6eX9vIt5tvsQ+4pCT4hn5FqWJnPpVbXPTsiT7q3ZKM6LH6FzqUN/7RAVhNcNcF4+m5WXlVucrM26Vk+dpqHNJycY+zmbZs9YsyoRjLFhTa4y+kqtnKp2Q/s7F0jJd/VNP2d50FxVGC+nxM6h+h48r18JVbrYD64y4To1rHhj5DmowvjcnB8r5oprb3NSkvibrGojVCMIraMIqMV6ElsjQrjPFf1cv/ksr/wCDLHiCdrSow8qzf69sVi1r3ufX5JgbTVEnRan3OixP3crNXwDv+SdP37/ydi9/f/NROeLL5PH8nre1uW/J4bdeVSX0lnujDmfyNviY8aa4VwW0a4RhFLwjFbJfJAZgAAAAAAAAAAAAAAAAAAAAAAAcMnuCnvVkP06ll/dY1+BQk9wOv4vb7dQzX/15gUR1tRwa8qqdNsFOFsHCcX3NM7IAjK8/J0X6PKjbl4kelWZVCV1+PDwhlVx86SX9ZFPw3XiU+nalRlQVlF1V0H3SrnGa+7/A7exo83hLCum7HRGuxrZ248pY1n2q2gN4ajVOIaMeSrTlfdL+RjY6Vt83+rvtCP6UnGK8WTWgcN02ZWfCduZZHHza6q4TzcqcVCWLRY01zdfOnIsNN0qjEjy0U10p9/JFR3f6T738QOnpGBY5vKyuXtpx5Y1wk5141T69nCW3nSf1pbLd93RI3IAAAAAAAAAAAAAAAAAAAAAAAAAHBKaJbl4tcqvIbJ/xnImpdtRGMlO2Uk1u9+5orABovylm/wCz/nlUnD1HP8MCHxy6/wD0b4AT0tQ1LwwKP2s1L/CAryNUn342FT7ZZNt33KtFCcAR/BN8lm6tTc4O6ObRdPs1KMOSzFqjBxT6/wBHJfAsTz3Abp4mypb+blU1UNeCnXRCyD+SuR6EAAAAAAAAAAAAAAAAAAAAAAAAAAAAAAAAAAAHm2tS7PVMm57pY2Totz28Y2rJx5fdP7j0hEDrtHPka0kt2tJ0+yP68Hlyi/mkXGDd2lVc/XrhL5pMDOAAAAAAAAAAAAAAAAAAAAAAAAAAAAAAAAAAJOFfNqmpRfXm0nBW37WYjZcF2uenYkpd7xa0/elt+B08JfnrMXp0vT//AC5aM/A898KC9S2+v7Fs0BvwAAAAAAAAAAAAAAAAAAAAAAAAAAAAAAAAABM4vTXMlenSMF/K/LRk4Gjy49sfV1DMXzuk/wATBU9tftXraJj/ALmTfv8A9yOxwnLz82HqalavtKMvxAoQAAAAAAAAAAAAAAAAAAAAAAAAAAAAAAADhnJ82zUYuT6KKbb9CXVgefYeVJ8RTv33rnG3So793PRVVk7/ABlZcv2Ch4XW2RqS/wB4p/Oipk3ydnpmFnS6yWqwz213uOVdOPX3V3JfAptEfLqGoQ9M8az7VW3+UCgAAAAAAAAAAAAAAAAAAAAAAAAAAAAAAAANLxjkSqwMhx25pVOqHtnZ5iXzkbonuKl2tmHj7bq3NjOW3eoUp2b+7mUF8QHEWnfmm6itbOGC41r0ShDzfk0iZt1DKqypZeNyW9ppWLlTx5R3nlU180beylv5tkeaOy6p7pdO89CyK+eEo+tCUfmjz3CU6NP07NrjKx6bKePkxgnKc8Td1XbJLeTg4ws2Xf2bAv8AT82GTTXdVJThbXGyEl3OMlumdg0PBFLrwKo8rit7ZQi4uDVUrZyh5r6rzXHob4AAAAAAAAAAAAAAAAAAAAAAAAAAAAAAE8vptW8dsXA7/Dnvn3P28tf3lAyd4R+lnm5PX6bULK4+js8dKhbexyhN/ECiZNcDpVwyqP6jUslP/iS7X/OUzJnh5qvUdSqX1rMfJ/vK+T/TYFMAAAAAAAAAAAAAAAAAAAAAAAAAAAAAAADp6xnxxMa/Il/Joosul7oRcvwOjwXgyxdOxap7uccaDsb73bNc839qUjqcfrtMNY3V+W5eNiPb1LLY9o/7tWFIgOSZraq1ycfHJ0qM37ewtcf9VFMS+uNVatplm3W2Obit+x1K5L51MCoAAAAAAAAAAAAAAAAAAAAAAAAAAAAADBk5tVOzssrr37nZOMN/duzOSebwpbLJtyK78afayUuXOwY5kqtoqPLVYpxcYdN+Xr1bAyahlVZefgQquqtVUsjJkq7IT6xr7OO+z9NrfwKgmdK4UVeTHKunTZZXGSqVGJVh11862k+jcpvbp50mvZ4lMAJT/wDQJdlDCyeiWNq+JKUm9lGu2Tom9/DpaVZruINHr1DGsxrXNRs5XzVtRnGUJRnGUW01upRi+qa6dQPj+EOGpcnleLzb7bdvXvv6O82aZJ/wPtsg6b9QutpkuWdUcXAx3ZD1JThVul+ryv2oq64KKSS2SSSXoSA+gAAAAAAAAAAAAAAAAAAAAAAAAAAAAAAAAAAAAAAAAAAAAAAAAAB//9k=)"
      ]
    },
    {
      "cell_type": "code",
      "metadata": {
        "colab": {
          "base_uri": "https://localhost:8080/"
        },
        "id": "oF1rec4L3tDr",
        "outputId": "9db32245-200b-46a6-e93b-faee69d09b25"
      },
      "source": [
        "#start from label 'y'\n",
        "\n",
        "\n",
        "entropy_node = 0  #Initialize Entropy\n",
        "values = df.y.unique()  #Unique objects - 'Yes', 'No'\n",
        "for value in values:\n",
        "    fraction = df.y.value_counts()[value]/len(df.y)  \n",
        "    entropy_node += -fraction*np.log2(fraction)\n",
        "entropy_node "
      ],
      "execution_count": 4,
      "outputs": [
        {
          "output_type": "execute_result",
          "data": {
            "text/plain": [
              "0.9709505944546686"
            ]
          },
          "metadata": {},
          "execution_count": 4
        }
      ]
    },
    {
      "cell_type": "markdown",
      "metadata": {
        "id": "mDeXRiB6XOJR"
      },
      "source": [
        "We find the entropy of class, by summing the entropy by using from the probability of each categories in the label"
      ]
    },
    {
      "cell_type": "markdown",
      "metadata": {
        "id": "-uLBfPcAlSLN"
      },
      "source": [
        "\n",
        "\n",
        "---\n",
        "\n"
      ]
    },
    {
      "cell_type": "markdown",
      "metadata": {
        "id": "gq08Kccb5SPS"
      },
      "source": [
        "# calculate entropy for all categorical values"
      ]
    },
    {
      "cell_type": "markdown",
      "metadata": {
        "id": "9WCku3u-Ud5X"
      },
      "source": [
        "<details>\n",
        "  <summary><b>Description 2</b></summary>\n",
        "\n",
        "  <fieldset>\n",
        "\n",
        "Verbal description 2.1 : \n",
        "\n",
        "Since without any help of attributes, the impurity is high (recall the entropy is approximately 0.97 )\n",
        "\n",
        "So, we need helping hands from other attributes, which filtering the dataset given by the category in EACH attribute, then looking for the weighted average of the attribute entropy, and see is the entropy is lower than the class entropy or not. If the weighted average entropy of that attribute is equal to the class entropy, we consider it useless and doesn't help much to help seperating the impurity of the dataset\n",
        "\n",
        "since this is the first round, the attribute that has the lowest weighted avg of entropy, will be chosen as a root node, or formally we can use Information gain to determine how much the attribute can help seperating the impurity of data compared to the class node"
      ]
    },
    {
      "cell_type": "markdown",
      "metadata": {
        "id": "mI1EYveJbCcM"
      },
      "source": [
        "![image.png](data:image/jpeg;base64,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)"
      ]
    },
    {
      "cell_type": "code",
      "metadata": {
        "id": "T-4BuWnV3t--"
      },
      "source": [
        "\"\"\"This function ent can filtering the df by the category of each attributes, and return the entropy of each attribute\"\"\"\n",
        "\n",
        "def ent(df,attribute):\n",
        "  #This gives all category of the label\n",
        "    target_variables = df.y.unique()  \n",
        "\n",
        "    #This gives different category in that attribute (eg. attribute sex: male , female)\n",
        "    variables = df[attribute].unique()   \n",
        "\n",
        "\n",
        "    entropy_attribute = 0\n",
        "\n",
        "    # We dig to each attribute\n",
        "    for variable in variables:\n",
        "        entropy_each_feature = 0\n",
        "        # Now dig to each category of the fixed attribute\n",
        "        for target_variable in target_variables:\n",
        "            # Find the proportion of each category of to the whole number of this attribute\n",
        "            num = len(df[attribute][df[attribute]==variable][df.y ==target_variable])\n",
        "            den = len(df[attribute][df[attribute]==variable]) \n",
        "\n",
        "            # we find the proportion of each category given the category of the label / we plus eps to avoid the case den = 0\n",
        "            fraction = num/(den+eps)  \n",
        "\n",
        "            # Entropy of each category in this attribute\n",
        "            entropy_each_feature += -fraction*log(fraction+eps) \n",
        "\n",
        "        # Weighted average entropy of each category in this attribute    \n",
        "        fraction2 = den/len(df)\n",
        "        entropy_attribute += -fraction2*entropy_each_feature   #Sums up all the entropy ETaste\n",
        "\n",
        "    return(abs(entropy_attribute))"
      ],
      "execution_count": 5,
      "outputs": []
    },
    {
      "cell_type": "code",
      "metadata": {
        "colab": {
          "base_uri": "https://localhost:8080/"
        },
        "id": "SG7U-9y_Aheo",
        "outputId": "e53f55f7-b46a-4132-81d1-7908223304eb"
      },
      "source": [
        "\"\"\"Now we obtained the weighted avg entropy of each attribute\"\"\"\n",
        "\n",
        "a_entropy ={}\n",
        "for k in df.keys()[:-1]:\n",
        "  a_entropy[k] = ent(df,k)\n",
        "  # print(k,ent(df,k))\n",
        "a_entropy"
      ],
      "execution_count": 6,
      "outputs": [
        {
          "output_type": "execute_result",
          "data": {
            "text/plain": [
              "{'x1': 0.950977500432693,\n",
              " 'x2': 0.950977500432693,\n",
              " 'x3': 0.27611396333841903,\n",
              " 'x4': 0.8354712650426314}"
            ]
          },
          "metadata": {},
          "execution_count": 6
        }
      ]
    },
    {
      "cell_type": "code",
      "metadata": {
        "colab": {
          "base_uri": "https://localhost:8080/"
        },
        "id": "Bguk0qfV0wZm",
        "outputId": "08f8a74f-122f-4cf8-9a88-f07317318219"
      },
      "source": [
        "a_entropy"
      ],
      "execution_count": 7,
      "outputs": [
        {
          "output_type": "execute_result",
          "data": {
            "text/plain": [
              "{'x1': 0.950977500432693,\n",
              " 'x2': 0.950977500432693,\n",
              " 'x3': 0.27611396333841903,\n",
              " 'x4': 0.8354712650426314}"
            ]
          },
          "metadata": {},
          "execution_count": 7
        }
      ]
    },
    {
      "cell_type": "markdown",
      "metadata": {
        "id": "d9j5eS3GlTwG"
      },
      "source": [
        "\n",
        "\n",
        "---\n",
        "\n"
      ]
    },
    {
      "cell_type": "markdown",
      "metadata": {
        "id": "0k5ynHLD5XY6"
      },
      "source": [
        "# calculate gain for the current attribute"
      ]
    },
    {
      "cell_type": "markdown",
      "metadata": {
        "id": "fkYqW5ey1o_o"
      },
      "source": [
        "<details>\n",
        "  <summary><b> # Description 3</b></summary>\n",
        "\n",
        "<fieldset>\n",
        "Verbal description 3.1 : \n",
        "\n",
        "To look how much attribute helps compared to the old one (Just the class), we use Information Gain as the metrics\n",
        "\n"
      ]
    },
    {
      "cell_type": "markdown",
      "metadata": {
        "id": "GV984P-P3Eq1"
      },
      "source": [
        "![image.png](data:image/jpeg;base64,/9j/4AAQSkZJRgABAQAAAQABAAD/2wCEAAkGBxENDxIQERAPDxUQDREQEREPDw8NEBAQFRYXFxgSExUYHTQiGBomGxgTITEiJisrLjEuFx8zODMsOjQtLisBCgoKBQUFDgUFDisZExkrKysrKysrKysrKysrKysrKysrKysrKysrKysrKysrKysrKysrKysrKysrKysrKysrK//AABEIAOYA2wMBIgACEQEDEQH/xAAbAAEBAAIDAQAAAAAAAAAAAAAABgMFAQQHAv/EAEgQAAICAQIDAwgFBgsJAQAAAAABAgMEBREGEiETMUEUIlFSYXGBkSNCkqHBFSVicoKiFiQyM0NTY5OxwsNVZYOUo7Kz0dIH/8QAFAEBAAAAAAAAAAAAAAAAAAAAAP/EABQRAQAAAAAAAAAAAAAAAAAAAAD/2gAMAwEAAhEDEQA/APcQAAAAAAAAAAOJSS72l4dehyQ/Gt3bZNFXNJRx8rAtcYuUea63KhGG7T6pRjPp7QLgAAAAAAAAAAAAAAAAAAAAAAAAAAAAAAAAAAYsrJhTCVlk4VwhFynOyShCEV3uUn0SIOvNrz86Lqfa12ajVLtIpqLrxaHPdbrqu0lHr3blFxRg3WyxbK64ZEaMh22Y859mrHySjCSbWzcZPmSfTfZ96Ri0zJsv1CauphVKnDhKtKbslFWzlzJvu68kfkBRo5AAA4bNDm8YYVTnFXK6VcXOyGP9PKEfWly9EveBvzjc891XjK6U1F052FVZHmplXieVZeQtuZuNa37KKTW7lHfzvA7PDHEF+VFxxIQsUZN2eX5cnlwe/wBepQ3j7ugF0DDidpyLtORS8VXzOPw36mYAAAAAAAAAAAAAAAAAAAAAAAADgnsBfnbL9mFiL961lEaDSlzajnS9EMav4qMpfiBvzFk5EaoSsnJRjCLlKT6JRXVsyk9xBPt8rEwfCx2ZV69NGPybQfslbZT8IyAY+A9Q2uylLs351OI24wUfCd6/pJPv5ZbxXo36m2x40R+igqY7Lbs4ci2S8OVeB9Z+Ir63W5zgpNczrlyScfGPN3pP2dSf4c1bTbMzJw8SEFdibK5xrUVzN7SSn3yaa2ftApZqMfPaXmxfXbql3tIl83TsHWX2lVkqcijrXkUc2Pl0Pw33W8oPr5sk4s2XFvE2PpGLLKyHLlUlCMYJSnOb7oxTff0b9yZsMK2u+ML4JPtKoyjJraXJLrswNLw5rN3aywc1QWTXDnhZWuSrMpXTtq19WXdzR8G/RsUhM8eYsljeV1Ju7Al5TVt0cox/nKt/RKHMigw8iN1cLIPeNkIzi/TGS3T+TAzAAAAAAAAAAAAAAAAAAAAAAAA4ZPcNy5svUn6M2uPyorf4lCzQcLLezOn62oz/AHYQj+AFATda31uz9HR6eX9vIt5tvsQ+4pCT4hn5FqWJnPpVbXPTsiT7q3ZKM6LH6FzqUN/7RAVhNcNcF4+m5WXlVucrM26Vk+dpqHNJycY+zmbZs9YsyoRjLFhTa4y+kqtnKp2Q/s7F0jJd/VNP2d50FxVGC+nxM6h+h48r18JVbrYD64y4To1rHhj5DmowvjcnB8r5oprb3NSkvibrGojVCMIraMIqMV6ElsjQrjPFf1cv/ksr/wCDLHiCdrSow8qzf69sVi1r3ufX5JgbTVEnRan3OixP3crNXwDv+SdP37/ydi9/f/NROeLL5PH8nre1uW/J4bdeVSX0lnujDmfyNviY8aa4VwW0a4RhFLwjFbJfJAZgAAAAAAAAAAAAAAAAAAAAAAAcMnuCnvVkP06ll/dY1+BQk9wOv4vb7dQzX/15gUR1tRwa8qqdNsFOFsHCcX3NM7IAjK8/J0X6PKjbl4kelWZVCV1+PDwhlVx86SX9ZFPw3XiU+nalRlQVlF1V0H3SrnGa+7/A7exo83hLCum7HRGuxrZ248pY1n2q2gN4ajVOIaMeSrTlfdL+RjY6Vt83+rvtCP6UnGK8WTWgcN02ZWfCduZZHHza6q4TzcqcVCWLRY01zdfOnIsNN0qjEjy0U10p9/JFR3f6T738QOnpGBY5vKyuXtpx5Y1wk5141T69nCW3nSf1pbLd93RI3IAAAAAAAAAAAAAAAAAAAAAAAAAHBKaJbl4tcqvIbJ/xnImpdtRGMlO2Uk1u9+5orABovylm/wCz/nlUnD1HP8MCHxy6/wD0b4AT0tQ1LwwKP2s1L/CAryNUn342FT7ZZNt33KtFCcAR/BN8lm6tTc4O6ObRdPs1KMOSzFqjBxT6/wBHJfAsTz3Abp4mypb+blU1UNeCnXRCyD+SuR6EAAAAAAAAAAAAAAAAAAAAAAAAAAAAAAAAAAAHm2tS7PVMm57pY2Totz28Y2rJx5fdP7j0hEDrtHPka0kt2tJ0+yP68Hlyi/mkXGDd2lVc/XrhL5pMDOAAAAAAAAAAAAAAAAAAAAAAAAAAAAAAAAAAJOFfNqmpRfXm0nBW37WYjZcF2uenYkpd7xa0/elt+B08JfnrMXp0vT//AC5aM/A898KC9S2+v7Fs0BvwAAAAAAAAAAAAAAAAAAAAAAAAAAAAAAAAABM4vTXMlenSMF/K/LRk4Gjy49sfV1DMXzuk/wATBU9tftXraJj/ALmTfv8A9yOxwnLz82HqalavtKMvxAoQAAAAAAAAAAAAAAAAAAAAAAAAAAAAAAADhnJ82zUYuT6KKbb9CXVgefYeVJ8RTv33rnG3So793PRVVk7/ABlZcv2Ch4XW2RqS/wB4p/Oipk3ydnpmFnS6yWqwz213uOVdOPX3V3JfAptEfLqGoQ9M8az7VW3+UCgAAAAAAAAAAAAAAAAAAAAAAAAAAAAAAAANLxjkSqwMhx25pVOqHtnZ5iXzkbonuKl2tmHj7bq3NjOW3eoUp2b+7mUF8QHEWnfmm6itbOGC41r0ShDzfk0iZt1DKqypZeNyW9ppWLlTx5R3nlU180beylv5tkeaOy6p7pdO89CyK+eEo+tCUfmjz3CU6NP07NrjKx6bKePkxgnKc8Td1XbJLeTg4ws2Xf2bAv8AT82GTTXdVJThbXGyEl3OMlumdg0PBFLrwKo8rit7ZQi4uDVUrZyh5r6rzXHob4AAAAAAAAAAAAAAAAAAAAAAAAAAAAAAE8vptW8dsXA7/Dnvn3P28tf3lAyd4R+lnm5PX6bULK4+js8dKhbexyhN/ECiZNcDpVwyqP6jUslP/iS7X/OUzJnh5qvUdSqX1rMfJ/vK+T/TYFMAAAAAAAAAAAAAAAAAAAAAAAAAAAAAAADp6xnxxMa/Il/Joosul7oRcvwOjwXgyxdOxap7uccaDsb73bNc839qUjqcfrtMNY3V+W5eNiPb1LLY9o/7tWFIgOSZraq1ycfHJ0qM37ewtcf9VFMS+uNVatplm3W2Obit+x1K5L51MCoAAAAAAAAAAAAAAAAAAAAAAAAAAAAADBk5tVOzssrr37nZOMN/duzOSebwpbLJtyK78afayUuXOwY5kqtoqPLVYpxcYdN+Xr1bAyahlVZefgQquqtVUsjJkq7IT6xr7OO+z9NrfwKgmdK4UVeTHKunTZZXGSqVGJVh11862k+jcpvbp50mvZ4lMAJT/wDQJdlDCyeiWNq+JKUm9lGu2Tom9/DpaVZruINHr1DGsxrXNRs5XzVtRnGUJRnGUW01upRi+qa6dQPj+EOGpcnleLzb7bdvXvv6O82aZJ/wPtsg6b9QutpkuWdUcXAx3ZD1JThVul+ryv2oq64KKSS2SSSXoSA+gAAAAAAAAAAAAAAAAAAAAAAAAAAAAAAAAAAAAAAAAAAAAAAAAAB//9k=)"
      ]
    },
    {
      "cell_type": "code",
      "metadata": {
        "id": "bUYBRa0E5RNO"
      },
      "source": [
        "def ig(e_dataset,e_attr):\n",
        "    return e_dataset - e_attr"
      ],
      "execution_count": 8,
      "outputs": []
    },
    {
      "cell_type": "code",
      "metadata": {
        "colab": {
          "base_uri": "https://localhost:8080/"
        },
        "id": "Fn3lJvCVAN6I",
        "outputId": "d912d6bf-be8b-4ce4-baa1-cbe4a9547976"
      },
      "source": [
        "IG = {}\n",
        "for k in a_entropy:\n",
        "  IG[k] = ig(entropy_node,a_entropy[k])\n",
        "  # print(k, a_entropy[k])\n",
        "\n",
        "IG"
      ],
      "execution_count": 9,
      "outputs": [
        {
          "output_type": "execute_result",
          "data": {
            "text/plain": [
              "{'x1': 0.019973094021975557,\n",
              " 'x2': 0.019973094021975557,\n",
              " 'x3': 0.6948366311162495,\n",
              " 'x4': 0.13547932941203722}"
            ]
          },
          "metadata": {},
          "execution_count": 9
        }
      ]
    },
    {
      "cell_type": "markdown",
      "metadata": {
        "id": "F-PRFWOmlUpw"
      },
      "source": [
        "\n",
        "\n",
        "---\n",
        "\n"
      ]
    },
    {
      "cell_type": "markdown",
      "metadata": {
        "id": "flnZbJi05Wjr"
      },
      "source": [
        "# complete code."
      ]
    },
    {
      "cell_type": "code",
      "metadata": {
        "id": "jwMV1A1x5ps-"
      },
      "source": [
        "def find_entropy(df):\n",
        "    Class = df.keys()[-1]   #To make the code generic, changing target variable class name\n",
        "    entropy = 0\n",
        "    values = df[Class].unique()\n",
        "    for value in values:\n",
        "        fraction = df[Class].value_counts()[value]/len(df[Class])\n",
        "        entropy += -fraction*np.log2(fraction)\n",
        "    return entropy\n",
        "  \n",
        "  \n",
        "def find_entropy_attribute(df,attribute):\n",
        "  Class = df.keys()[-1]   #To make the code generic, changing target variable class name\n",
        "  target_variables = df[Class].unique()  #This gives all 'Yes' and 'No'\n",
        "  variables = df[attribute].unique()    #This gives different features in that attribute (like 'Hot','Cold' in Temperature)\n",
        "  entropy2 = 0\n",
        "  for variable in variables:\n",
        "      entropy = 0\n",
        "      for target_variable in target_variables:\n",
        "          num = len(df[attribute][df[attribute]==variable][df[Class] ==target_variable])\n",
        "          den = len(df[attribute][df[attribute]==variable])\n",
        "          fraction = num/(den+eps)\n",
        "          entropy += -fraction*log(fraction+eps)\n",
        "      fraction2 = den/len(df)\n",
        "      entropy2 += -fraction2*entropy\n",
        "  return abs(entropy2)\n",
        "\n",
        "\n",
        "def find_winner(df):\n",
        "    Entropy_att = []\n",
        "    IG = []\n",
        "    for key in df.keys()[:-1]:\n",
        "#       Entropy_att.append(find_entropy_attribute(df,key))\n",
        "        IG.append(find_entropy(df)-find_entropy_attribute(df,key))\n",
        "        #print(np.max(IG))\n",
        "    return (df.keys()[:-1][np.argmax(IG)],np.max(IG))\n",
        "  \n",
        "  \n",
        "def get_subtable(df, node,value):\n",
        "  return df[df[node] == value].reset_index(drop=True)"
      ],
      "execution_count": 10,
      "outputs": []
    },
    {
      "cell_type": "code",
      "metadata": {
        "id": "O8b9d5KIY5rU"
      },
      "source": [
        "#root_label = np.unique(df[df.keys()[-1]])\n",
        "#root_label_count = len(root_label)\n",
        "\n",
        "def buildTree(df,tree=None): \n",
        "    \"\"\"start with the label\"\"\"\n",
        "    Class = df.keys()[-1]   \n",
        "\n",
        "    \"\"\"find the root node (best attribute with highest IG)\"\"\"\n",
        "    node = find_winner(df)[0]\n",
        "    print(\"winner \", node)\n",
        "    \n",
        "    \"\"\"categories of the winner node\"\"\"\n",
        "    attValue = np.unique(df[node])\n",
        "    \n",
        "    \"\"\"build tree and this is for only first round\"\"\"   \n",
        "    if tree is None:                    \n",
        "        tree={}\n",
        "        \n",
        "        tree[node] = {}\n",
        "\n",
        "    \"\"\"recursely append the node until the subset is pure\"\"\"\n",
        "    for value in attValue:\n",
        "        \n",
        "        \"\"\"each catgry. for the fixed attrb\"\"\"\n",
        "        subtable = get_subtable(df,node,value)\n",
        "\n",
        "        \"\"\"yes/no for each category with counts\"\"\"\n",
        "        clValue,counts = np.unique(subtable[df.columns[-1]],return_counts=True)   \n",
        "\n",
        "\n",
        "        \" only 1 label in that subtable deserves to be the last node \"\n",
        "        if len(counts) == 1:#Checking purity of subset\n",
        "            tree[node][value] = clValue[0]         \n",
        "            \n",
        "        elif float(\"%.4f\" % (find_winner(df)[1])) == 0:\n",
        "            tree[node][value] = clValue[np.random.randint(0, len(counts))]      \n",
        "            \n",
        "          \n",
        "        else:        \n",
        "            #print(subtable)\n",
        "            tree[node][value] = buildTree(subtable) #Calling the function recursively \n",
        "                   \n",
        "    return tree"
      ],
      "execution_count": 11,
      "outputs": []
    },
    {
      "cell_type": "code",
      "metadata": {
        "colab": {
          "base_uri": "https://localhost:8080/"
        },
        "id": "OJY2IRqTFmEB",
        "outputId": "208e4d28-9569-4c28-8e1a-71fcd2ba7211"
      },
      "source": [
        "buildTree(df)"
      ],
      "execution_count": 12,
      "outputs": [
        {
          "output_type": "stream",
          "name": "stdout",
          "text": [
            "winner  x3\n",
            "winner  x4\n",
            "winner  x1\n",
            "winner  x1\n"
          ]
        },
        {
          "output_type": "execute_result",
          "data": {
            "text/plain": [
              "{'x3': {'no': 'yes',\n",
              "  'yes': {'x4': {'chainsmoker': 'no',\n",
              "    'never': 'no',\n",
              "    'rarely': {'x1': {'no': {'x1': {'no': 'no'}}, 'yes': 'no'}}}}}}"
            ]
          },
          "metadata": {},
          "execution_count": 12
        }
      ]
    },
    {
      "cell_type": "markdown",
      "metadata": {
        "id": "1R51JJoBbmJ0"
      },
      "source": [
        "If the winner are duplicated attribute, it means you possibly have more than 1 model "
      ]
    },
    {
      "cell_type": "markdown",
      "metadata": {
        "id": "Kx0vahEAb0-8"
      },
      "source": [
        "Since all the instance that x3 == yes, y will always equal no\n",
        "\n",
        "So, here's a decision tree if-else algorithm"
      ]
    },
    {
      "cell_type": "markdown",
      "metadata": {
        "id": "2xMTampCllI6"
      },
      "source": [
        "\n",
        "\n",
        "---\n",
        "\n"
      ]
    },
    {
      "cell_type": "markdown",
      "metadata": {
        "id": "0_yGQAZ6nNAO"
      },
      "source": [
        "# Predict 3 unseen data"
      ]
    },
    {
      "cell_type": "code",
      "metadata": {
        "id": "ucNvzo9Ed8E8"
      },
      "source": [
        "y = df.pop(\"y\")\n",
        "\n",
        "X = df"
      ],
      "execution_count": 14,
      "outputs": []
    },
    {
      "cell_type": "code",
      "metadata": {
        "id": "R91buYUreaTM"
      },
      "source": [
        "from sklearn.model_selection import train_test_split\n",
        "\n",
        "X_train, X_test, y_train, y_test = train_test_split(X, y, test_size=0.20, random_state=42)"
      ],
      "execution_count": 15,
      "outputs": []
    },
    {
      "cell_type": "code",
      "metadata": {
        "colab": {
          "base_uri": "https://localhost:8080/",
          "height": 143
        },
        "id": "ygoJ8nMTgGbl",
        "outputId": "04815896-8656-416f-85b5-f0c54af8931c"
      },
      "source": [
        "X_test"
      ],
      "execution_count": 16,
      "outputs": [
        {
          "output_type": "execute_result",
          "data": {
            "text/html": [
              "<div>\n",
              "<style scoped>\n",
              "    .dataframe tbody tr th:only-of-type {\n",
              "        vertical-align: middle;\n",
              "    }\n",
              "\n",
              "    .dataframe tbody tr th {\n",
              "        vertical-align: top;\n",
              "    }\n",
              "\n",
              "    .dataframe thead th {\n",
              "        text-align: right;\n",
              "    }\n",
              "</style>\n",
              "<table border=\"1\" class=\"dataframe\">\n",
              "  <thead>\n",
              "    <tr style=\"text-align: right;\">\n",
              "      <th></th>\n",
              "      <th>x1</th>\n",
              "      <th>x2</th>\n",
              "      <th>x3</th>\n",
              "      <th>x4</th>\n",
              "    </tr>\n",
              "  </thead>\n",
              "  <tbody>\n",
              "    <tr>\n",
              "      <th>9</th>\n",
              "      <td>yes</td>\n",
              "      <td>male</td>\n",
              "      <td>yes</td>\n",
              "      <td>chainsmoker</td>\n",
              "    </tr>\n",
              "    <tr>\n",
              "      <th>11</th>\n",
              "      <td>no</td>\n",
              "      <td>male</td>\n",
              "      <td>yes</td>\n",
              "      <td>rarely</td>\n",
              "    </tr>\n",
              "    <tr>\n",
              "      <th>0</th>\n",
              "      <td>yes</td>\n",
              "      <td>male</td>\n",
              "      <td>yes</td>\n",
              "      <td>never</td>\n",
              "    </tr>\n",
              "  </tbody>\n",
              "</table>\n",
              "</div>"
            ],
            "text/plain": [
              "     x1    x2   x3           x4\n",
              "9   yes  male  yes  chainsmoker\n",
              "11   no  male  yes       rarely\n",
              "0   yes  male  yes        never"
            ]
          },
          "metadata": {},
          "execution_count": 16
        }
      ]
    },
    {
      "cell_type": "code",
      "metadata": {
        "id": "3TKxQPWbkx41"
      },
      "source": [
        "for i in range(len(X_test)):\n",
        "\n",
        "  if X_test.iloc[i,2] == \"yes\":\n",
        "    X_test[\"pred_y\"] = \"no\"\n",
        "  else: \n",
        "    X_test[\"pred_y\"] = \"yes\""
      ],
      "execution_count": 17,
      "outputs": []
    },
    {
      "cell_type": "code",
      "metadata": {
        "colab": {
          "base_uri": "https://localhost:8080/",
          "height": 143
        },
        "id": "Vf_PFrPsmbYd",
        "outputId": "63ba9318-5170-4ddf-c1d4-3f1549edf3cc"
      },
      "source": [
        "X_test"
      ],
      "execution_count": 18,
      "outputs": [
        {
          "output_type": "execute_result",
          "data": {
            "text/html": [
              "<div>\n",
              "<style scoped>\n",
              "    .dataframe tbody tr th:only-of-type {\n",
              "        vertical-align: middle;\n",
              "    }\n",
              "\n",
              "    .dataframe tbody tr th {\n",
              "        vertical-align: top;\n",
              "    }\n",
              "\n",
              "    .dataframe thead th {\n",
              "        text-align: right;\n",
              "    }\n",
              "</style>\n",
              "<table border=\"1\" class=\"dataframe\">\n",
              "  <thead>\n",
              "    <tr style=\"text-align: right;\">\n",
              "      <th></th>\n",
              "      <th>x1</th>\n",
              "      <th>x2</th>\n",
              "      <th>x3</th>\n",
              "      <th>x4</th>\n",
              "      <th>pred_y</th>\n",
              "    </tr>\n",
              "  </thead>\n",
              "  <tbody>\n",
              "    <tr>\n",
              "      <th>9</th>\n",
              "      <td>yes</td>\n",
              "      <td>male</td>\n",
              "      <td>yes</td>\n",
              "      <td>chainsmoker</td>\n",
              "      <td>no</td>\n",
              "    </tr>\n",
              "    <tr>\n",
              "      <th>11</th>\n",
              "      <td>no</td>\n",
              "      <td>male</td>\n",
              "      <td>yes</td>\n",
              "      <td>rarely</td>\n",
              "      <td>no</td>\n",
              "    </tr>\n",
              "    <tr>\n",
              "      <th>0</th>\n",
              "      <td>yes</td>\n",
              "      <td>male</td>\n",
              "      <td>yes</td>\n",
              "      <td>never</td>\n",
              "      <td>no</td>\n",
              "    </tr>\n",
              "  </tbody>\n",
              "</table>\n",
              "</div>"
            ],
            "text/plain": [
              "     x1    x2   x3           x4 pred_y\n",
              "9   yes  male  yes  chainsmoker     no\n",
              "11   no  male  yes       rarely     no\n",
              "0   yes  male  yes        never     no"
            ]
          },
          "metadata": {},
          "execution_count": 18
        }
      ]
    },
    {
      "cell_type": "markdown",
      "metadata": {
        "id": "v1ERz8WXnpXV"
      },
      "source": [
        "\n",
        "\n",
        "---\n",
        "\n"
      ]
    }
  ]
}