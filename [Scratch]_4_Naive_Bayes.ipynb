{
  "nbformat": 4,
  "nbformat_minor": 0,
  "metadata": {
    "colab": {
      "name": "[Scratch] #4 Naive Bayes",
      "provenance": [],
      "include_colab_link": true
    },
    "kernelspec": {
      "name": "python3",
      "display_name": "Python 3"
    },
    "language_info": {
      "name": "python"
    }
  },
  "cells": [
    {
      "cell_type": "markdown",
      "metadata": {
        "id": "view-in-github",
        "colab_type": "text"
      },
      "source": [
        "<a href=\"https://colab.research.google.com/github/wallik2/ML_algorithm_FromScratch/blob/main/%5BScratch%5D_4_Naive_Bayes.ipynb\" target=\"_parent\"><img src=\"https://colab.research.google.com/assets/colab-badge.svg\" alt=\"Open In Colab\"/></a>"
      ]
    },
    {
      "cell_type": "markdown",
      "metadata": {
        "id": "U_-0Ak8un0rc"
      },
      "source": [
        "# Naive Bayes from scratch 👶"
      ]
    },
    {
      "cell_type": "markdown",
      "metadata": {
        "id": "4m_1Z5Ixnoxg"
      },
      "source": [
        "\n",
        "![](https://miro.medium.com/max/551/0*xqTD8-GQ_FUYqYUQ.png)"
      ]
    },
    {
      "cell_type": "markdown",
      "metadata": {
        "id": "QxghuH35oDC9"
      },
      "source": [
        "\n",
        "\n",
        "---\n",
        "\n"
      ]
    },
    {
      "cell_type": "markdown",
      "metadata": {
        "id": "MZETbZTObeMw"
      },
      "source": [
        "# Dataset"
      ]
    },
    {
      "cell_type": "code",
      "metadata": {
        "id": "bWu1TH0Gbae1"
      },
      "source": [
        "import pandas as pd, re ,numpy as np"
      ],
      "execution_count": 33,
      "outputs": []
    },
    {
      "cell_type": "code",
      "metadata": {
        "id": "PSKDIDCkagRJ"
      },
      "source": [
        "pos = [\n",
        "            [\"The hamburger is very delicious, I recommend it\",\"positive\"],\n",
        "            [\"The donut is too sweat and I like it\",\"positive\"],\n",
        "            [\"Hamburger is the best\",\"positive\"],\n",
        "            [\"Even some says it tastes like poop but I like its taste\",\"positive\"],\n",
        "            [\"The donut is not bad at all\",\"positive\"]\n",
        "            ]"
      ],
      "execution_count": 34,
      "outputs": []
    },
    {
      "cell_type": "code",
      "metadata": {
        "id": "07tXBAtcat_0"
      },
      "source": [
        "neg =[\n",
        "      [\"The taste of the fries is poop\",\"negative\"],\n",
        "      [\"Too much oil, I really not love it :)\",\"negative\"],\n",
        "      [\"I hate this restaurant, the worst ever\",\"negative\"],\n",
        "      [\"I saw a rat in my burger, what the heck?\",\"negative\"],\n",
        "      [\"The hamburger is really is Not as advertised\",\"negative\"]\n",
        "      ]"
      ],
      "execution_count": 35,
      "outputs": []
    },
    {
      "cell_type": "code",
      "metadata": {
        "id": "FcneZ7gnbCG9"
      },
      "source": [
        "test = [\n",
        "    [\"The burger is tastes like my pee\",\"negative\"],\n",
        "[\"This restaurant is so dirty, I really really love it :)\",\"negative\"],\n",
        "[\"This restaurant is good? \",\"negative\"],\n",
        "[\"I hate to say it, but this restaurant is too good to me \",\"positive\"],\n",
        "[\"I don’t see rat in my burger, so I give 5 stars \",\"positive\"],\n",
        "      ]"
      ],
      "execution_count": 36,
      "outputs": []
    },
    {
      "cell_type": "code",
      "metadata": {
        "id": "ax2fZV33bjrB"
      },
      "source": [
        "train = pd.DataFrame(data=pos+neg,columns=['reviews','sentiment']); test=pd.DataFrame(data=test,columns=['reviews','sentiment'])"
      ],
      "execution_count": 37,
      "outputs": []
    },
    {
      "cell_type": "code",
      "metadata": {
        "colab": {
          "base_uri": "https://localhost:8080/",
          "height": 552
        },
        "id": "TTxQ71yLc8ng",
        "outputId": "41831140-8cc7-49fb-8751-b621452cb615"
      },
      "source": [
        "display(train);display(test)"
      ],
      "execution_count": 38,
      "outputs": [
        {
          "output_type": "display_data",
          "data": {
            "text/html": [
              "<div>\n",
              "<style scoped>\n",
              "    .dataframe tbody tr th:only-of-type {\n",
              "        vertical-align: middle;\n",
              "    }\n",
              "\n",
              "    .dataframe tbody tr th {\n",
              "        vertical-align: top;\n",
              "    }\n",
              "\n",
              "    .dataframe thead th {\n",
              "        text-align: right;\n",
              "    }\n",
              "</style>\n",
              "<table border=\"1\" class=\"dataframe\">\n",
              "  <thead>\n",
              "    <tr style=\"text-align: right;\">\n",
              "      <th></th>\n",
              "      <th>reviews</th>\n",
              "      <th>sentiment</th>\n",
              "    </tr>\n",
              "  </thead>\n",
              "  <tbody>\n",
              "    <tr>\n",
              "      <th>0</th>\n",
              "      <td>The hamburger is very delicious, I recommend it</td>\n",
              "      <td>positive</td>\n",
              "    </tr>\n",
              "    <tr>\n",
              "      <th>1</th>\n",
              "      <td>The donut is too sweat and I like it</td>\n",
              "      <td>positive</td>\n",
              "    </tr>\n",
              "    <tr>\n",
              "      <th>2</th>\n",
              "      <td>Hamburger is the best</td>\n",
              "      <td>positive</td>\n",
              "    </tr>\n",
              "    <tr>\n",
              "      <th>3</th>\n",
              "      <td>Even some says it tastes like poop but I like ...</td>\n",
              "      <td>positive</td>\n",
              "    </tr>\n",
              "    <tr>\n",
              "      <th>4</th>\n",
              "      <td>The donut is not bad at all</td>\n",
              "      <td>positive</td>\n",
              "    </tr>\n",
              "    <tr>\n",
              "      <th>5</th>\n",
              "      <td>The taste of the fries is poop</td>\n",
              "      <td>negative</td>\n",
              "    </tr>\n",
              "    <tr>\n",
              "      <th>6</th>\n",
              "      <td>Too much oil, I really not love it :)</td>\n",
              "      <td>negative</td>\n",
              "    </tr>\n",
              "    <tr>\n",
              "      <th>7</th>\n",
              "      <td>I hate this restaurant, the worst ever</td>\n",
              "      <td>negative</td>\n",
              "    </tr>\n",
              "    <tr>\n",
              "      <th>8</th>\n",
              "      <td>I saw a rat in my burger, what the heck?</td>\n",
              "      <td>negative</td>\n",
              "    </tr>\n",
              "    <tr>\n",
              "      <th>9</th>\n",
              "      <td>The hamburger is really is Not as advertised</td>\n",
              "      <td>negative</td>\n",
              "    </tr>\n",
              "  </tbody>\n",
              "</table>\n",
              "</div>"
            ],
            "text/plain": [
              "                                             reviews sentiment\n",
              "0    The hamburger is very delicious, I recommend it  positive\n",
              "1               The donut is too sweat and I like it  positive\n",
              "2                              Hamburger is the best  positive\n",
              "3  Even some says it tastes like poop but I like ...  positive\n",
              "4                        The donut is not bad at all  positive\n",
              "5                     The taste of the fries is poop  negative\n",
              "6              Too much oil, I really not love it :)  negative\n",
              "7             I hate this restaurant, the worst ever  negative\n",
              "8           I saw a rat in my burger, what the heck?  negative\n",
              "9       The hamburger is really is Not as advertised  negative"
            ]
          },
          "metadata": {}
        },
        {
          "output_type": "display_data",
          "data": {
            "text/html": [
              "<div>\n",
              "<style scoped>\n",
              "    .dataframe tbody tr th:only-of-type {\n",
              "        vertical-align: middle;\n",
              "    }\n",
              "\n",
              "    .dataframe tbody tr th {\n",
              "        vertical-align: top;\n",
              "    }\n",
              "\n",
              "    .dataframe thead th {\n",
              "        text-align: right;\n",
              "    }\n",
              "</style>\n",
              "<table border=\"1\" class=\"dataframe\">\n",
              "  <thead>\n",
              "    <tr style=\"text-align: right;\">\n",
              "      <th></th>\n",
              "      <th>reviews</th>\n",
              "      <th>sentiment</th>\n",
              "    </tr>\n",
              "  </thead>\n",
              "  <tbody>\n",
              "    <tr>\n",
              "      <th>0</th>\n",
              "      <td>The burger is tastes like my pee</td>\n",
              "      <td>negative</td>\n",
              "    </tr>\n",
              "    <tr>\n",
              "      <th>1</th>\n",
              "      <td>This restaurant is so dirty, I really really l...</td>\n",
              "      <td>negative</td>\n",
              "    </tr>\n",
              "    <tr>\n",
              "      <th>2</th>\n",
              "      <td>This restaurant is good?</td>\n",
              "      <td>negative</td>\n",
              "    </tr>\n",
              "    <tr>\n",
              "      <th>3</th>\n",
              "      <td>I hate to say it, but this restaurant is too g...</td>\n",
              "      <td>positive</td>\n",
              "    </tr>\n",
              "    <tr>\n",
              "      <th>4</th>\n",
              "      <td>I don’t see rat in my burger, so I give 5 stars</td>\n",
              "      <td>positive</td>\n",
              "    </tr>\n",
              "  </tbody>\n",
              "</table>\n",
              "</div>"
            ],
            "text/plain": [
              "                                             reviews sentiment\n",
              "0                   The burger is tastes like my pee  negative\n",
              "1  This restaurant is so dirty, I really really l...  negative\n",
              "2                          This restaurant is good?   negative\n",
              "3  I hate to say it, but this restaurant is too g...  positive\n",
              "4   I don’t see rat in my burger, so I give 5 stars   positive"
            ]
          },
          "metadata": {}
        }
      ]
    },
    {
      "cell_type": "markdown",
      "metadata": {
        "id": "Uy_Vodfyq-h2"
      },
      "source": [
        "\n",
        "\n",
        "---\n",
        "\n"
      ]
    },
    {
      "cell_type": "code",
      "metadata": {
        "id": "IFH2VKNwq_FW"
      },
      "source": [
        "pos_given = train[train['sentiment']=='positive'].copy()\n",
        "\n",
        "neg_given = train[train['sentiment']=='negative'].copy()"
      ],
      "execution_count": 39,
      "outputs": []
    },
    {
      "cell_type": "code",
      "metadata": {
        "colab": {
          "base_uri": "https://localhost:8080/",
          "height": 206
        },
        "id": "wlEu66zNrhzm",
        "outputId": "5ad2b394-02e4-4082-f461-3987726e80d0"
      },
      "source": [
        "pos_given"
      ],
      "execution_count": 40,
      "outputs": [
        {
          "output_type": "execute_result",
          "data": {
            "text/html": [
              "<div>\n",
              "<style scoped>\n",
              "    .dataframe tbody tr th:only-of-type {\n",
              "        vertical-align: middle;\n",
              "    }\n",
              "\n",
              "    .dataframe tbody tr th {\n",
              "        vertical-align: top;\n",
              "    }\n",
              "\n",
              "    .dataframe thead th {\n",
              "        text-align: right;\n",
              "    }\n",
              "</style>\n",
              "<table border=\"1\" class=\"dataframe\">\n",
              "  <thead>\n",
              "    <tr style=\"text-align: right;\">\n",
              "      <th></th>\n",
              "      <th>reviews</th>\n",
              "      <th>sentiment</th>\n",
              "    </tr>\n",
              "  </thead>\n",
              "  <tbody>\n",
              "    <tr>\n",
              "      <th>0</th>\n",
              "      <td>The hamburger is very delicious, I recommend it</td>\n",
              "      <td>positive</td>\n",
              "    </tr>\n",
              "    <tr>\n",
              "      <th>1</th>\n",
              "      <td>The donut is too sweat and I like it</td>\n",
              "      <td>positive</td>\n",
              "    </tr>\n",
              "    <tr>\n",
              "      <th>2</th>\n",
              "      <td>Hamburger is the best</td>\n",
              "      <td>positive</td>\n",
              "    </tr>\n",
              "    <tr>\n",
              "      <th>3</th>\n",
              "      <td>Even some says it tastes like poop but I like ...</td>\n",
              "      <td>positive</td>\n",
              "    </tr>\n",
              "    <tr>\n",
              "      <th>4</th>\n",
              "      <td>The donut is not bad at all</td>\n",
              "      <td>positive</td>\n",
              "    </tr>\n",
              "  </tbody>\n",
              "</table>\n",
              "</div>"
            ],
            "text/plain": [
              "                                             reviews sentiment\n",
              "0    The hamburger is very delicious, I recommend it  positive\n",
              "1               The donut is too sweat and I like it  positive\n",
              "2                              Hamburger is the best  positive\n",
              "3  Even some says it tastes like poop but I like ...  positive\n",
              "4                        The donut is not bad at all  positive"
            ]
          },
          "metadata": {},
          "execution_count": 40
        }
      ]
    },
    {
      "cell_type": "code",
      "metadata": {
        "colab": {
          "base_uri": "https://localhost:8080/",
          "height": 206
        },
        "id": "KjYYyJD9rZ8Z",
        "outputId": "cc25516b-f341-4aef-cb94-b06677b7ab92"
      },
      "source": [
        "neg_given"
      ],
      "execution_count": 41,
      "outputs": [
        {
          "output_type": "execute_result",
          "data": {
            "text/html": [
              "<div>\n",
              "<style scoped>\n",
              "    .dataframe tbody tr th:only-of-type {\n",
              "        vertical-align: middle;\n",
              "    }\n",
              "\n",
              "    .dataframe tbody tr th {\n",
              "        vertical-align: top;\n",
              "    }\n",
              "\n",
              "    .dataframe thead th {\n",
              "        text-align: right;\n",
              "    }\n",
              "</style>\n",
              "<table border=\"1\" class=\"dataframe\">\n",
              "  <thead>\n",
              "    <tr style=\"text-align: right;\">\n",
              "      <th></th>\n",
              "      <th>reviews</th>\n",
              "      <th>sentiment</th>\n",
              "    </tr>\n",
              "  </thead>\n",
              "  <tbody>\n",
              "    <tr>\n",
              "      <th>5</th>\n",
              "      <td>The taste of the fries is poop</td>\n",
              "      <td>negative</td>\n",
              "    </tr>\n",
              "    <tr>\n",
              "      <th>6</th>\n",
              "      <td>Too much oil, I really not love it :)</td>\n",
              "      <td>negative</td>\n",
              "    </tr>\n",
              "    <tr>\n",
              "      <th>7</th>\n",
              "      <td>I hate this restaurant, the worst ever</td>\n",
              "      <td>negative</td>\n",
              "    </tr>\n",
              "    <tr>\n",
              "      <th>8</th>\n",
              "      <td>I saw a rat in my burger, what the heck?</td>\n",
              "      <td>negative</td>\n",
              "    </tr>\n",
              "    <tr>\n",
              "      <th>9</th>\n",
              "      <td>The hamburger is really is Not as advertised</td>\n",
              "      <td>negative</td>\n",
              "    </tr>\n",
              "  </tbody>\n",
              "</table>\n",
              "</div>"
            ],
            "text/plain": [
              "                                        reviews sentiment\n",
              "5                The taste of the fries is poop  negative\n",
              "6         Too much oil, I really not love it :)  negative\n",
              "7        I hate this restaurant, the worst ever  negative\n",
              "8      I saw a rat in my burger, what the heck?  negative\n",
              "9  The hamburger is really is Not as advertised  negative"
            ]
          },
          "metadata": {},
          "execution_count": 41
        }
      ]
    },
    {
      "cell_type": "markdown",
      "metadata": {
        "id": "ZWdNLkxDrgk9"
      },
      "source": [
        "\n",
        "\n",
        "---\n",
        "\n"
      ]
    },
    {
      "cell_type": "markdown",
      "metadata": {
        "id": "kbWaMb1hreNk"
      },
      "source": [
        "Find probabiltiy of given positive and given negative:"
      ]
    },
    {
      "cell_type": "markdown",
      "metadata": {
        "id": "FA-6ulMroYC6"
      },
      "source": [
        "## Tokenize the word"
      ]
    },
    {
      "cell_type": "code",
      "metadata": {
        "id": "5IuALx7tdJYw"
      },
      "source": [
        "import re, numpy as np\n",
        "\n",
        "def strip_off(string):\n",
        "  string = string.lower()\n",
        "  rx = r\"[\\w'(:))]+|\\?+\"\n",
        "  lists = re.findall(rx,string)\n",
        "\n",
        "  return lists"
      ],
      "execution_count": 42,
      "outputs": []
    },
    {
      "cell_type": "code",
      "metadata": {
        "id": "4QB9rKRbgJYL"
      },
      "source": [
        "token_pos, token_neg = [],[]\n",
        "\n",
        "for i in range(len(pos_given)):\n",
        "\n",
        "  data = pos_given.iloc[i,0]\n",
        "  token_pos += strip_off(data)\n",
        "\n",
        "\n",
        "for i in range(len(neg_given)):\n",
        "\n",
        "  data = neg_given.iloc[i,0]\n",
        "  token_neg += strip_off(data)"
      ],
      "execution_count": 43,
      "outputs": []
    },
    {
      "cell_type": "code",
      "metadata": {
        "id": "l7PWt_wcsu7w"
      },
      "source": [
        "#token_pos\n",
        "\n",
        "#token_neg"
      ],
      "execution_count": 44,
      "outputs": []
    },
    {
      "cell_type": "markdown",
      "metadata": {
        "id": "xGsSU8A9tfaw"
      },
      "source": [
        "Now find the the set of tokens, and its count in form of dictionary"
      ]
    },
    {
      "cell_type": "code",
      "metadata": {
        "colab": {
          "base_uri": "https://localhost:8080/"
        },
        "id": "wMcOr0Dxf-5o",
        "outputId": "9e1b859b-cd01-487b-963f-95527296d6f0"
      },
      "source": [
        "\n",
        "pos_count,neg_count = 0,0\n",
        "token_pos_count,token_neg_count = dict(),dict()\n",
        "\n",
        "# let alpha = 1, add 1 count to each word\n",
        "for i in set(token_pos):\n",
        "  token_pos_count.update([(i,token_pos.count(i)+1)])\n",
        "  pos_count += token_pos.count(i)+1\n",
        "\n",
        "for i in set(token_neg):\n",
        "  token_neg_count.update([(i,token_neg.count(i)+1)])\n",
        "  neg_count += token_neg.count(i)+1\n",
        "\n",
        "token_pos_count"
      ],
      "execution_count": 45,
      "outputs": [
        {
          "output_type": "execute_result",
          "data": {
            "text/plain": [
              "{'all': 2,\n",
              " 'and': 2,\n",
              " 'at': 2,\n",
              " 'bad': 2,\n",
              " 'best': 2,\n",
              " 'but': 2,\n",
              " 'delicious': 2,\n",
              " 'donut': 3,\n",
              " 'even': 2,\n",
              " 'hamburger': 3,\n",
              " 'i': 4,\n",
              " 'is': 5,\n",
              " 'it': 4,\n",
              " 'its': 2,\n",
              " 'like': 4,\n",
              " 'not': 2,\n",
              " 'poop': 2,\n",
              " 'recommend': 2,\n",
              " 'says': 2,\n",
              " 'some': 2,\n",
              " 'sweat': 2,\n",
              " 'taste': 2,\n",
              " 'tastes': 2,\n",
              " 'the': 5,\n",
              " 'too': 2,\n",
              " 'very': 2}"
            ]
          },
          "metadata": {},
          "execution_count": 45
        }
      ]
    },
    {
      "cell_type": "code",
      "metadata": {
        "colab": {
          "base_uri": "https://localhost:8080/"
        },
        "id": "cX7TtirH0GJr",
        "outputId": "45135646-a85b-457f-ed14-366c8dd33658"
      },
      "source": [
        "token_neg_count"
      ],
      "execution_count": 46,
      "outputs": [
        {
          "output_type": "execute_result",
          "data": {
            "text/plain": [
              "{':)': 2,\n",
              " '?': 2,\n",
              " 'a': 2,\n",
              " 'advertised': 2,\n",
              " 'as': 2,\n",
              " 'burger': 2,\n",
              " 'ever': 2,\n",
              " 'fries': 2,\n",
              " 'hamburger': 2,\n",
              " 'hate': 2,\n",
              " 'heck': 2,\n",
              " 'i': 4,\n",
              " 'in': 2,\n",
              " 'is': 4,\n",
              " 'it': 2,\n",
              " 'love': 2,\n",
              " 'much': 2,\n",
              " 'my': 2,\n",
              " 'not': 3,\n",
              " 'of': 2,\n",
              " 'oil': 2,\n",
              " 'poop': 2,\n",
              " 'rat': 2,\n",
              " 'really': 3,\n",
              " 'restaurant': 2,\n",
              " 'saw': 2,\n",
              " 'taste': 2,\n",
              " 'the': 6,\n",
              " 'this': 2,\n",
              " 'too': 2,\n",
              " 'what': 2,\n",
              " 'worst': 2}"
            ]
          },
          "metadata": {},
          "execution_count": 46
        }
      ]
    },
    {
      "cell_type": "code",
      "metadata": {
        "id": "bjUWQbnhwzsP"
      },
      "source": [
        "pos_df = pd.DataFrame(data=token_pos_count,index=[0])\n",
        "neg_df = pd.DataFrame(data=token_neg_count,index=[0])"
      ],
      "execution_count": 47,
      "outputs": []
    },
    {
      "cell_type": "code",
      "metadata": {
        "colab": {
          "base_uri": "https://localhost:8080/",
          "height": 81
        },
        "id": "ggpUWe5tyAVv",
        "outputId": "dba051d6-c9db-470e-e08a-323a444d79d0"
      },
      "source": [
        "pos_df"
      ],
      "execution_count": 48,
      "outputs": [
        {
          "output_type": "execute_result",
          "data": {
            "text/html": [
              "<div>\n",
              "<style scoped>\n",
              "    .dataframe tbody tr th:only-of-type {\n",
              "        vertical-align: middle;\n",
              "    }\n",
              "\n",
              "    .dataframe tbody tr th {\n",
              "        vertical-align: top;\n",
              "    }\n",
              "\n",
              "    .dataframe thead th {\n",
              "        text-align: right;\n",
              "    }\n",
              "</style>\n",
              "<table border=\"1\" class=\"dataframe\">\n",
              "  <thead>\n",
              "    <tr style=\"text-align: right;\">\n",
              "      <th></th>\n",
              "      <th>donut</th>\n",
              "      <th>says</th>\n",
              "      <th>some</th>\n",
              "      <th>like</th>\n",
              "      <th>delicious</th>\n",
              "      <th>very</th>\n",
              "      <th>all</th>\n",
              "      <th>i</th>\n",
              "      <th>too</th>\n",
              "      <th>hamburger</th>\n",
              "      <th>sweat</th>\n",
              "      <th>its</th>\n",
              "      <th>even</th>\n",
              "      <th>but</th>\n",
              "      <th>recommend</th>\n",
              "      <th>at</th>\n",
              "      <th>tastes</th>\n",
              "      <th>it</th>\n",
              "      <th>bad</th>\n",
              "      <th>is</th>\n",
              "      <th>and</th>\n",
              "      <th>poop</th>\n",
              "      <th>the</th>\n",
              "      <th>best</th>\n",
              "      <th>taste</th>\n",
              "      <th>not</th>\n",
              "    </tr>\n",
              "  </thead>\n",
              "  <tbody>\n",
              "    <tr>\n",
              "      <th>0</th>\n",
              "      <td>3</td>\n",
              "      <td>2</td>\n",
              "      <td>2</td>\n",
              "      <td>4</td>\n",
              "      <td>2</td>\n",
              "      <td>2</td>\n",
              "      <td>2</td>\n",
              "      <td>4</td>\n",
              "      <td>2</td>\n",
              "      <td>3</td>\n",
              "      <td>2</td>\n",
              "      <td>2</td>\n",
              "      <td>2</td>\n",
              "      <td>2</td>\n",
              "      <td>2</td>\n",
              "      <td>2</td>\n",
              "      <td>2</td>\n",
              "      <td>4</td>\n",
              "      <td>2</td>\n",
              "      <td>5</td>\n",
              "      <td>2</td>\n",
              "      <td>2</td>\n",
              "      <td>5</td>\n",
              "      <td>2</td>\n",
              "      <td>2</td>\n",
              "      <td>2</td>\n",
              "    </tr>\n",
              "  </tbody>\n",
              "</table>\n",
              "</div>"
            ],
            "text/plain": [
              "   donut  says  some  like  delicious  very  ...  and  poop  the  best  taste  not\n",
              "0      3     2     2     4          2     2  ...    2     2    5     2      2    2\n",
              "\n",
              "[1 rows x 26 columns]"
            ]
          },
          "metadata": {},
          "execution_count": 48
        }
      ]
    },
    {
      "cell_type": "markdown",
      "metadata": {
        "id": "BAqsOOlVtMU7"
      },
      "source": [
        "\n",
        "\n",
        "---\n",
        "\n"
      ]
    },
    {
      "cell_type": "markdown",
      "metadata": {
        "id": "LMxu1bxDvVRq"
      },
      "source": [
        "To find the probability, must know the total number of word first "
      ]
    },
    {
      "cell_type": "code",
      "metadata": {
        "colab": {
          "base_uri": "https://localhost:8080/"
        },
        "id": "vq9HJQg7tVe3",
        "outputId": "e526cfa5-8057-4e44-9330-f01240409c78"
      },
      "source": [
        "print(\"token count of positive:\", pos_count,\"\\ntoken count of negative:\",neg_count)"
      ],
      "execution_count": 49,
      "outputs": [
        {
          "output_type": "stream",
          "name": "stdout",
          "text": [
            "token count of positive: 66 \n",
            "token count of negative: 74\n"
          ]
        }
      ]
    },
    {
      "cell_type": "code",
      "metadata": {
        "id": "zgAfDkRQxu0t"
      },
      "source": [
        "pos_prob_df = pos_df/pos_count\n",
        "neg_prob_df = neg_df/neg_count"
      ],
      "execution_count": 50,
      "outputs": []
    },
    {
      "cell_type": "markdown",
      "metadata": {
        "id": "934TRIbCzwXv"
      },
      "source": [
        "verify to make sure the prob is 1"
      ]
    },
    {
      "cell_type": "code",
      "metadata": {
        "colab": {
          "base_uri": "https://localhost:8080/"
        },
        "id": "egblisDWyE0-",
        "outputId": "cb8d5abe-c9c2-4561-b13e-d98eb0575b38"
      },
      "source": [
        "pos_prob_df.sum(axis=1)"
      ],
      "execution_count": 51,
      "outputs": [
        {
          "output_type": "execute_result",
          "data": {
            "text/plain": [
              "0    1.0\n",
              "dtype: float64"
            ]
          },
          "metadata": {},
          "execution_count": 51
        }
      ]
    },
    {
      "cell_type": "code",
      "metadata": {
        "colab": {
          "base_uri": "https://localhost:8080/"
        },
        "id": "rflruoRlzVlx",
        "outputId": "c9d7df35-77bf-4923-d85e-052a361c63c6"
      },
      "source": [
        "neg_prob_df.sum(axis=1)"
      ],
      "execution_count": 52,
      "outputs": [
        {
          "output_type": "execute_result",
          "data": {
            "text/plain": [
              "0    1.0\n",
              "dtype: float64"
            ]
          },
          "metadata": {},
          "execution_count": 52
        }
      ]
    },
    {
      "cell_type": "markdown",
      "metadata": {
        "id": "K9QRoSME0CUR"
      },
      "source": [
        "So here's the probability of each word given positive\n"
      ]
    },
    {
      "cell_type": "markdown",
      "metadata": {
        "id": "TBllwwh14oFJ"
      },
      "source": [
        "\n",
        "\n",
        "---\n",
        "\n",
        "\n"
      ]
    },
    {
      "cell_type": "markdown",
      "metadata": {
        "id": "l6DVdUCm4Otw"
      },
      "source": [
        "<fieldset> \n",
        "\n",
        "Ignore finding probabilities"
      ]
    },
    {
      "cell_type": "code",
      "metadata": {
        "id": "YlZHewrCzVfp"
      },
      "source": [
        "#pos_prob_df"
      ],
      "execution_count": 53,
      "outputs": []
    },
    {
      "cell_type": "markdown",
      "metadata": {
        "id": "q4Vg3sXx0Gou"
      },
      "source": [
        "So here's the probability of each word given negative"
      ]
    },
    {
      "cell_type": "code",
      "metadata": {
        "id": "LIjLNE4sz8ir"
      },
      "source": [
        "#neg_prob_df"
      ],
      "execution_count": 54,
      "outputs": []
    },
    {
      "cell_type": "markdown",
      "metadata": {
        "id": "7bvQ_t9f4rIj"
      },
      "source": [
        "\n",
        "\n",
        "---\n",
        "\n"
      ]
    },
    {
      "cell_type": "markdown",
      "metadata": {
        "id": "HBd7TMf51iLl"
      },
      "source": [
        "don't forget the prior probability of the label"
      ]
    },
    {
      "cell_type": "code",
      "metadata": {
        "id": "Swtb9W_O1lsU"
      },
      "source": [
        "prior = dict(train['sentiment'].value_counts())"
      ],
      "execution_count": 55,
      "outputs": []
    },
    {
      "cell_type": "code",
      "metadata": {
        "id": "x3g07kEP167A"
      },
      "source": [
        "p_pos,p_neg = prior['positive']/len(train),prior['negative']/len(train)\n"
      ],
      "execution_count": 56,
      "outputs": []
    },
    {
      "cell_type": "code",
      "metadata": {
        "colab": {
          "base_uri": "https://localhost:8080/"
        },
        "id": "ciIJHn_E2Jdf",
        "outputId": "3f106328-233a-4677-9f0c-99754118f18b"
      },
      "source": [
        "p_pos,p_neg"
      ],
      "execution_count": 57,
      "outputs": [
        {
          "output_type": "execute_result",
          "data": {
            "text/plain": [
              "(0.5, 0.5)"
            ]
          },
          "metadata": {},
          "execution_count": 57
        }
      ]
    },
    {
      "cell_type": "markdown",
      "metadata": {
        "id": "T2mDcVFLz9mw"
      },
      "source": [
        "\n",
        "\n",
        "---\n",
        "\n"
      ]
    },
    {
      "cell_type": "markdown",
      "metadata": {
        "id": "4Kv73NYu09g4"
      },
      "source": [
        "Now we got the model yet, let's predict the test set"
      ]
    },
    {
      "cell_type": "markdown",
      "metadata": {
        "id": "Hu28CQEP3Fu9"
      },
      "source": [
        "Let's recap our parameter of our training model\n",
        "\n",
        "<fieldset>\n",
        "\n",
        "**Positive**\n",
        "- conditional probability is stored in *pos_prob_df*\n",
        "- prior probability is stored in *p_pos*\n",
        "- positive tokens counts : *pos_count*\n",
        "\n",
        "**Negative**\n",
        "- conditional probability is stored in *neg_prob_df*\n",
        "- prior probability is stored in *p_neg*\n",
        "- positive tokens counts : *neg_count*"
      ]
    },
    {
      "cell_type": "code",
      "metadata": {
        "colab": {
          "base_uri": "https://localhost:8080/",
          "height": 81
        },
        "id": "kFAk1LZU371e",
        "outputId": "4f19d8ec-c3f3-4c5a-b08d-0fb956680d01"
      },
      "source": [
        "pos_df"
      ],
      "execution_count": 58,
      "outputs": [
        {
          "output_type": "execute_result",
          "data": {
            "text/html": [
              "<div>\n",
              "<style scoped>\n",
              "    .dataframe tbody tr th:only-of-type {\n",
              "        vertical-align: middle;\n",
              "    }\n",
              "\n",
              "    .dataframe tbody tr th {\n",
              "        vertical-align: top;\n",
              "    }\n",
              "\n",
              "    .dataframe thead th {\n",
              "        text-align: right;\n",
              "    }\n",
              "</style>\n",
              "<table border=\"1\" class=\"dataframe\">\n",
              "  <thead>\n",
              "    <tr style=\"text-align: right;\">\n",
              "      <th></th>\n",
              "      <th>donut</th>\n",
              "      <th>says</th>\n",
              "      <th>some</th>\n",
              "      <th>like</th>\n",
              "      <th>delicious</th>\n",
              "      <th>very</th>\n",
              "      <th>all</th>\n",
              "      <th>i</th>\n",
              "      <th>too</th>\n",
              "      <th>hamburger</th>\n",
              "      <th>sweat</th>\n",
              "      <th>its</th>\n",
              "      <th>even</th>\n",
              "      <th>but</th>\n",
              "      <th>recommend</th>\n",
              "      <th>at</th>\n",
              "      <th>tastes</th>\n",
              "      <th>it</th>\n",
              "      <th>bad</th>\n",
              "      <th>is</th>\n",
              "      <th>and</th>\n",
              "      <th>poop</th>\n",
              "      <th>the</th>\n",
              "      <th>best</th>\n",
              "      <th>taste</th>\n",
              "      <th>not</th>\n",
              "    </tr>\n",
              "  </thead>\n",
              "  <tbody>\n",
              "    <tr>\n",
              "      <th>0</th>\n",
              "      <td>3</td>\n",
              "      <td>2</td>\n",
              "      <td>2</td>\n",
              "      <td>4</td>\n",
              "      <td>2</td>\n",
              "      <td>2</td>\n",
              "      <td>2</td>\n",
              "      <td>4</td>\n",
              "      <td>2</td>\n",
              "      <td>3</td>\n",
              "      <td>2</td>\n",
              "      <td>2</td>\n",
              "      <td>2</td>\n",
              "      <td>2</td>\n",
              "      <td>2</td>\n",
              "      <td>2</td>\n",
              "      <td>2</td>\n",
              "      <td>4</td>\n",
              "      <td>2</td>\n",
              "      <td>5</td>\n",
              "      <td>2</td>\n",
              "      <td>2</td>\n",
              "      <td>5</td>\n",
              "      <td>2</td>\n",
              "      <td>2</td>\n",
              "      <td>2</td>\n",
              "    </tr>\n",
              "  </tbody>\n",
              "</table>\n",
              "</div>"
            ],
            "text/plain": [
              "   donut  says  some  like  delicious  very  ...  and  poop  the  best  taste  not\n",
              "0      3     2     2     4          2     2  ...    2     2    5     2      2    2\n",
              "\n",
              "[1 rows x 26 columns]"
            ]
          },
          "metadata": {},
          "execution_count": 58
        }
      ]
    },
    {
      "cell_type": "code",
      "metadata": {
        "colab": {
          "base_uri": "https://localhost:8080/",
          "height": 81
        },
        "id": "jTACoctC308J",
        "outputId": "5389fa8f-0c76-497b-86ae-aeb85f404bab"
      },
      "source": [
        "neg_df"
      ],
      "execution_count": 59,
      "outputs": [
        {
          "output_type": "execute_result",
          "data": {
            "text/html": [
              "<div>\n",
              "<style scoped>\n",
              "    .dataframe tbody tr th:only-of-type {\n",
              "        vertical-align: middle;\n",
              "    }\n",
              "\n",
              "    .dataframe tbody tr th {\n",
              "        vertical-align: top;\n",
              "    }\n",
              "\n",
              "    .dataframe thead th {\n",
              "        text-align: right;\n",
              "    }\n",
              "</style>\n",
              "<table border=\"1\" class=\"dataframe\">\n",
              "  <thead>\n",
              "    <tr style=\"text-align: right;\">\n",
              "      <th></th>\n",
              "      <th>as</th>\n",
              "      <th>:)</th>\n",
              "      <th>hate</th>\n",
              "      <th>a</th>\n",
              "      <th>ever</th>\n",
              "      <th>my</th>\n",
              "      <th>really</th>\n",
              "      <th>this</th>\n",
              "      <th>love</th>\n",
              "      <th>advertised</th>\n",
              "      <th>i</th>\n",
              "      <th>oil</th>\n",
              "      <th>in</th>\n",
              "      <th>restaurant</th>\n",
              "      <th>fries</th>\n",
              "      <th>?</th>\n",
              "      <th>too</th>\n",
              "      <th>hamburger</th>\n",
              "      <th>burger</th>\n",
              "      <th>much</th>\n",
              "      <th>of</th>\n",
              "      <th>saw</th>\n",
              "      <th>rat</th>\n",
              "      <th>what</th>\n",
              "      <th>worst</th>\n",
              "      <th>heck</th>\n",
              "      <th>it</th>\n",
              "      <th>is</th>\n",
              "      <th>poop</th>\n",
              "      <th>the</th>\n",
              "      <th>taste</th>\n",
              "      <th>not</th>\n",
              "    </tr>\n",
              "  </thead>\n",
              "  <tbody>\n",
              "    <tr>\n",
              "      <th>0</th>\n",
              "      <td>2</td>\n",
              "      <td>2</td>\n",
              "      <td>2</td>\n",
              "      <td>2</td>\n",
              "      <td>2</td>\n",
              "      <td>2</td>\n",
              "      <td>3</td>\n",
              "      <td>2</td>\n",
              "      <td>2</td>\n",
              "      <td>2</td>\n",
              "      <td>4</td>\n",
              "      <td>2</td>\n",
              "      <td>2</td>\n",
              "      <td>2</td>\n",
              "      <td>2</td>\n",
              "      <td>2</td>\n",
              "      <td>2</td>\n",
              "      <td>2</td>\n",
              "      <td>2</td>\n",
              "      <td>2</td>\n",
              "      <td>2</td>\n",
              "      <td>2</td>\n",
              "      <td>2</td>\n",
              "      <td>2</td>\n",
              "      <td>2</td>\n",
              "      <td>2</td>\n",
              "      <td>2</td>\n",
              "      <td>4</td>\n",
              "      <td>2</td>\n",
              "      <td>6</td>\n",
              "      <td>2</td>\n",
              "      <td>3</td>\n",
              "    </tr>\n",
              "  </tbody>\n",
              "</table>\n",
              "</div>"
            ],
            "text/plain": [
              "   as  :)  hate  a  ever  my  really  ...  heck  it  is  poop  the  taste  not\n",
              "0   2   2     2  2     2   2       3  ...     2   2   4     2    6      2    3\n",
              "\n",
              "[1 rows x 32 columns]"
            ]
          },
          "metadata": {},
          "execution_count": 59
        }
      ]
    },
    {
      "cell_type": "code",
      "metadata": {
        "colab": {
          "base_uri": "https://localhost:8080/"
        },
        "id": "RKW9VN0h4_S7",
        "outputId": "ce19c6c5-7c86-47e7-d618-0971c69048e7"
      },
      "source": [
        "\n",
        "print(\"This is the probability of given by each label of the first reviews in test set\")\n",
        "\n",
        "print('test set',test.reviews[0],'\\n\\n')\n",
        "\n",
        "print('pos of the first test text',0.5*6*1*6*3*5*1*1/73**7)\n",
        "\n",
        "print('neg of the first test text',0.5*7*3*5*1*1*3*1/81**7)"
      ],
      "execution_count": 60,
      "outputs": [
        {
          "output_type": "stream",
          "name": "stdout",
          "text": [
            "This is the probability of given by each label of the first reviews in test set\n",
            "test set The burger is tastes like my pee \n",
            "\n",
            "\n",
            "pos of the first test text 2.4440143037590848e-11\n",
            "neg of the first test text 6.884706425084736e-12\n"
          ]
        }
      ]
    },
    {
      "cell_type": "markdown",
      "metadata": {
        "id": "ubzla9e74U1C"
      },
      "source": [
        "\n",
        "\n",
        "---\n",
        "\n"
      ]
    },
    {
      "cell_type": "code",
      "metadata": {
        "id": "kvjPZ9dVEApm",
        "colab": {
          "base_uri": "https://localhost:8080/",
          "height": 206
        },
        "outputId": "ef421ec0-d3e5-4205-8367-dc11978c4fc7"
      },
      "source": [
        "test['Predicted_sentiment'] = np.nan;test"
      ],
      "execution_count": 61,
      "outputs": [
        {
          "output_type": "execute_result",
          "data": {
            "text/html": [
              "<div>\n",
              "<style scoped>\n",
              "    .dataframe tbody tr th:only-of-type {\n",
              "        vertical-align: middle;\n",
              "    }\n",
              "\n",
              "    .dataframe tbody tr th {\n",
              "        vertical-align: top;\n",
              "    }\n",
              "\n",
              "    .dataframe thead th {\n",
              "        text-align: right;\n",
              "    }\n",
              "</style>\n",
              "<table border=\"1\" class=\"dataframe\">\n",
              "  <thead>\n",
              "    <tr style=\"text-align: right;\">\n",
              "      <th></th>\n",
              "      <th>reviews</th>\n",
              "      <th>sentiment</th>\n",
              "      <th>Predicted_sentiment</th>\n",
              "    </tr>\n",
              "  </thead>\n",
              "  <tbody>\n",
              "    <tr>\n",
              "      <th>0</th>\n",
              "      <td>The burger is tastes like my pee</td>\n",
              "      <td>negative</td>\n",
              "      <td>NaN</td>\n",
              "    </tr>\n",
              "    <tr>\n",
              "      <th>1</th>\n",
              "      <td>This restaurant is so dirty, I really really l...</td>\n",
              "      <td>negative</td>\n",
              "      <td>NaN</td>\n",
              "    </tr>\n",
              "    <tr>\n",
              "      <th>2</th>\n",
              "      <td>This restaurant is good?</td>\n",
              "      <td>negative</td>\n",
              "      <td>NaN</td>\n",
              "    </tr>\n",
              "    <tr>\n",
              "      <th>3</th>\n",
              "      <td>I hate to say it, but this restaurant is too g...</td>\n",
              "      <td>positive</td>\n",
              "      <td>NaN</td>\n",
              "    </tr>\n",
              "    <tr>\n",
              "      <th>4</th>\n",
              "      <td>I don’t see rat in my burger, so I give 5 stars</td>\n",
              "      <td>positive</td>\n",
              "      <td>NaN</td>\n",
              "    </tr>\n",
              "  </tbody>\n",
              "</table>\n",
              "</div>"
            ],
            "text/plain": [
              "                                             reviews  ... Predicted_sentiment\n",
              "0                   The burger is tastes like my pee  ...                 NaN\n",
              "1  This restaurant is so dirty, I really really l...  ...                 NaN\n",
              "2                          This restaurant is good?   ...                 NaN\n",
              "3  I hate to say it, but this restaurant is too g...  ...                 NaN\n",
              "4   I don’t see rat in my burger, so I give 5 stars   ...                 NaN\n",
              "\n",
              "[5 rows x 3 columns]"
            ]
          },
          "metadata": {},
          "execution_count": 61
        }
      ]
    },
    {
      "cell_type": "markdown",
      "metadata": {
        "id": "-63szC-y70YP"
      },
      "source": [
        "if the word in test set exists, then simply multiply by the prbability of that word of the training set, otherwise the probability of that word is 1/(count of words given the label + total count in that reviews )"
      ]
    },
    {
      "cell_type": "code",
      "metadata": {
        "colab": {
          "base_uri": "https://localhost:8080/"
        },
        "id": "f0ryM-mV4Vdy",
        "outputId": "cd5366ed-50fb-4a8d-b485-0748fe161144"
      },
      "source": [
        "count = -1\n",
        "\n",
        "for i in test['reviews']:\n",
        "  text = strip_off(i) \n",
        "  count+=1\n",
        "  print(i)\n",
        "  #POSITIVE\n",
        "\n",
        "\n",
        "  product_pos = 1 * p_pos\n",
        "  for j in text:\n",
        "\n",
        "    #print('len',len(text))\n",
        "    try:\n",
        "    # If it exists\n",
        "      #print('try',pos_prob_df[j])\n",
        "      hw = pos_df[j]+1\n",
        "      #print(f'{j} with prob {pos_prob_df[j]}')\n",
        "    except:\n",
        "    # If it doesn't exists\n",
        "      #print('except',1/((pos_count)+len(text)))\n",
        "      hw = 1\n",
        "      #print(f'{j} with prob', 1/((pos_count)+len(text)))\n",
        "\n",
        "    product_pos *= hw/((pos_count)+len(text))\n",
        "\n",
        "  print('pos:',product_pos[0])\n",
        "\n",
        "   \n",
        "\n",
        "  #NEGATIVE\n",
        "\n",
        "\n",
        "  product_neg = 1 * p_neg\n",
        "  for j in text:\n",
        "\n",
        "    try:\n",
        "      # If it exists\n",
        "      hw = neg_df[j]+1\n",
        "      #print(f'{j} with prob {neg_prob_df[j]}')\n",
        "    except:\n",
        "      # If it doesn't exists\n",
        "      hw = 1\n",
        "      #print(f'{j} with prob', 1/((neg_count)+len(text)))\n",
        "\n",
        "    product_neg *= hw/((neg_count)+len(text))\n",
        "\n",
        "  print('neg:',product_neg[0])\n",
        "  print('\\n')\n",
        "\n",
        "# now predict by comparing which label has larger probability\n",
        "\n",
        "  if product_pos[0] > product_neg[0]:\n",
        "      test.iloc[count,2] = 'positive' \n",
        "    \n",
        "  elif product_pos[0] < product_neg[0]:\n",
        "      test.iloc[count,2] = 'negative'\n",
        "\n",
        "  else: \n",
        "    #Extremely rare to happen especially when having big dataset\n",
        "      test.iloc[count,2] = 'positiveXXnegative'\n"
      ],
      "execution_count": 62,
      "outputs": [
        {
          "output_type": "stream",
          "name": "stdout",
          "text": [
            "The burger is tastes like my pee\n",
            "pos: 2.444014303759084e-11\n",
            "neg: 6.8847064250847335e-12\n",
            "\n",
            "\n",
            "This restaurant is so dirty, I really really love it :)\n",
            "pos: 1.3294233011394842e-19\n",
            "neg: 2.904210467567041e-17\n",
            "\n",
            "\n",
            "This restaurant is good? \n",
            "pos: 1.6627597806992997e-09\n",
            "neg: 2.19365494964397e-08\n",
            "\n",
            "\n",
            "I hate to say it, but this restaurant is too good to me \n",
            "pos: 1.4459443748000367e-22\n",
            "neg: 1.8568037415117153e-22\n",
            "\n",
            "\n",
            "I don’t see rat in my burger, so I give 5 stars \n",
            "pos: 2.6776747681482158e-24\n",
            "neg: 6.189345805039051e-23\n",
            "\n",
            "\n"
          ]
        }
      ]
    },
    {
      "cell_type": "code",
      "metadata": {
        "colab": {
          "base_uri": "https://localhost:8080/",
          "height": 206
        },
        "id": "Dj0pf6oEE6Uh",
        "outputId": "9402fd49-5bdc-4ef9-ee7b-154a9e64df70"
      },
      "source": [
        "test"
      ],
      "execution_count": 63,
      "outputs": [
        {
          "output_type": "execute_result",
          "data": {
            "text/html": [
              "<div>\n",
              "<style scoped>\n",
              "    .dataframe tbody tr th:only-of-type {\n",
              "        vertical-align: middle;\n",
              "    }\n",
              "\n",
              "    .dataframe tbody tr th {\n",
              "        vertical-align: top;\n",
              "    }\n",
              "\n",
              "    .dataframe thead th {\n",
              "        text-align: right;\n",
              "    }\n",
              "</style>\n",
              "<table border=\"1\" class=\"dataframe\">\n",
              "  <thead>\n",
              "    <tr style=\"text-align: right;\">\n",
              "      <th></th>\n",
              "      <th>reviews</th>\n",
              "      <th>sentiment</th>\n",
              "      <th>Predicted_sentiment</th>\n",
              "    </tr>\n",
              "  </thead>\n",
              "  <tbody>\n",
              "    <tr>\n",
              "      <th>0</th>\n",
              "      <td>The burger is tastes like my pee</td>\n",
              "      <td>negative</td>\n",
              "      <td>positive</td>\n",
              "    </tr>\n",
              "    <tr>\n",
              "      <th>1</th>\n",
              "      <td>This restaurant is so dirty, I really really l...</td>\n",
              "      <td>negative</td>\n",
              "      <td>negative</td>\n",
              "    </tr>\n",
              "    <tr>\n",
              "      <th>2</th>\n",
              "      <td>This restaurant is good?</td>\n",
              "      <td>negative</td>\n",
              "      <td>negative</td>\n",
              "    </tr>\n",
              "    <tr>\n",
              "      <th>3</th>\n",
              "      <td>I hate to say it, but this restaurant is too g...</td>\n",
              "      <td>positive</td>\n",
              "      <td>negative</td>\n",
              "    </tr>\n",
              "    <tr>\n",
              "      <th>4</th>\n",
              "      <td>I don’t see rat in my burger, so I give 5 stars</td>\n",
              "      <td>positive</td>\n",
              "      <td>negative</td>\n",
              "    </tr>\n",
              "  </tbody>\n",
              "</table>\n",
              "</div>"
            ],
            "text/plain": [
              "                                             reviews  ... Predicted_sentiment\n",
              "0                   The burger is tastes like my pee  ...            positive\n",
              "1  This restaurant is so dirty, I really really l...  ...            negative\n",
              "2                          This restaurant is good?   ...            negative\n",
              "3  I hate to say it, but this restaurant is too g...  ...            negative\n",
              "4   I don’t see rat in my burger, so I give 5 stars   ...            negative\n",
              "\n",
              "[5 rows x 3 columns]"
            ]
          },
          "metadata": {},
          "execution_count": 63
        }
      ]
    }
  ]
}